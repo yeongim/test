{
 "cells": [
  {
   "cell_type": "code",
   "execution_count": 1,
   "metadata": {
    "executionInfo": {
     "elapsed": 9,
     "status": "ok",
     "timestamp": 1686812908823,
     "user": {
      "displayName": "이재진",
      "userId": "14857088793389238683"
     },
     "user_tz": -540
    },
    "id": "IuXha5--zRts"
   },
   "outputs": [],
   "source": [
    "import numpy as np\n",
    "import pandas as pd\n",
    "import os"
   ]
  },
  {
   "cell_type": "code",
   "execution_count": 2,
   "metadata": {
    "colab": {
     "base_uri": "https://localhost:8080/"
    },
    "executionInfo": {
     "elapsed": 19682,
     "status": "ok",
     "timestamp": 1686812928497,
     "user": {
      "displayName": "이재진",
      "userId": "14857088793389238683"
     },
     "user_tz": -540
    },
    "id": "EoJl2pDmzRri",
    "outputId": "1d93246b-8a70-45e8-bba1-2235389749d7"
   },
   "outputs": [
    {
     "name": "stdout",
     "output_type": "stream",
     "text": [
      "Mounted at /content/drive\n"
     ]
    }
   ],
   "source": [
    "from google.colab import drive\n",
    "drive.mount('/content/drive')"
   ]
  },
  {
   "cell_type": "code",
   "execution_count": 3,
   "metadata": {
    "executionInfo": {
     "elapsed": 1025,
     "status": "ok",
     "timestamp": 1686812929519,
     "user": {
      "displayName": "이재진",
      "userId": "14857088793389238683"
     },
     "user_tz": -540
    },
    "id": "DmHmrabNzRpN"
   },
   "outputs": [],
   "source": [
    "# 이 데이터는 가상데이터 5개를 합친 sum의 전력량과 조도 데이터입니다.\n",
    "# \" 이 파일 경로는 제 구글 드라이브 기준입니다. 사용하시는 분의 경로에 맞게 바꾸셔야합니다\n",
    "df = pd.read_excel(\"/content/drive/MyDrive/bigpj/gs/sum.xlsx\")"
   ]
  },
  {
   "cell_type": "code",
   "execution_count": 4,
   "metadata": {
    "colab": {
     "base_uri": "https://localhost:8080/",
     "height": 424
    },
    "executionInfo": {
     "elapsed": 16,
     "status": "ok",
     "timestamp": 1686812929520,
     "user": {
      "displayName": "이재진",
      "userId": "14857088793389238683"
     },
     "user_tz": -540
    },
    "id": "YEm5AYWHzRnL",
    "outputId": "74491477-7135-45dd-b60c-78bde9673280"
   },
   "outputs": [
    {
     "data": {
      "text/html": [
       "\n",
       "  <div id=\"df-577cfe5d-fb75-445f-9a00-60532959422e\">\n",
       "    <div class=\"colab-df-container\">\n",
       "      <div>\n",
       "<style scoped>\n",
       "    .dataframe tbody tr th:only-of-type {\n",
       "        vertical-align: middle;\n",
       "    }\n",
       "\n",
       "    .dataframe tbody tr th {\n",
       "        vertical-align: top;\n",
       "    }\n",
       "\n",
       "    .dataframe thead th {\n",
       "        text-align: right;\n",
       "    }\n",
       "</style>\n",
       "<table border=\"1\" class=\"dataframe\">\n",
       "  <thead>\n",
       "    <tr style=\"text-align: right;\">\n",
       "      <th></th>\n",
       "      <th>시리얼</th>\n",
       "      <th>전력량1 (Wh)</th>\n",
       "      <th>조도1 (%)</th>\n",
       "      <th>등록일시</th>\n",
       "      <th>구분</th>\n",
       "    </tr>\n",
       "  </thead>\n",
       "  <tbody>\n",
       "    <tr>\n",
       "      <th>0</th>\n",
       "      <td>KCN-1007</td>\n",
       "      <td>0</td>\n",
       "      <td>100</td>\n",
       "      <td>2022-10-24 01:03:30</td>\n",
       "      <td>일반군</td>\n",
       "    </tr>\n",
       "    <tr>\n",
       "      <th>1</th>\n",
       "      <td>KCN-1007</td>\n",
       "      <td>0</td>\n",
       "      <td>100</td>\n",
       "      <td>2022-10-24 02:04:17</td>\n",
       "      <td>일반군</td>\n",
       "    </tr>\n",
       "    <tr>\n",
       "      <th>2</th>\n",
       "      <td>KCN-1007</td>\n",
       "      <td>0</td>\n",
       "      <td>100</td>\n",
       "      <td>2022-10-24 03:06:35</td>\n",
       "      <td>일반군</td>\n",
       "    </tr>\n",
       "    <tr>\n",
       "      <th>3</th>\n",
       "      <td>KCN-1007</td>\n",
       "      <td>0</td>\n",
       "      <td>100</td>\n",
       "      <td>2022-10-24 04:07:15</td>\n",
       "      <td>일반군</td>\n",
       "    </tr>\n",
       "    <tr>\n",
       "      <th>4</th>\n",
       "      <td>KCN-1007</td>\n",
       "      <td>0</td>\n",
       "      <td>100</td>\n",
       "      <td>2022-10-24 05:03:40</td>\n",
       "      <td>일반군</td>\n",
       "    </tr>\n",
       "    <tr>\n",
       "      <th>...</th>\n",
       "      <td>...</td>\n",
       "      <td>...</td>\n",
       "      <td>...</td>\n",
       "      <td>...</td>\n",
       "      <td>...</td>\n",
       "    </tr>\n",
       "    <tr>\n",
       "      <th>831</th>\n",
       "      <td>KCN-1004</td>\n",
       "      <td>87</td>\n",
       "      <td>94</td>\n",
       "      <td>2023-06-07 19:00:00</td>\n",
       "      <td>고위험군</td>\n",
       "    </tr>\n",
       "    <tr>\n",
       "      <th>832</th>\n",
       "      <td>KCN-1004</td>\n",
       "      <td>15</td>\n",
       "      <td>32</td>\n",
       "      <td>2023-06-07 20:00:00</td>\n",
       "      <td>고위험군</td>\n",
       "    </tr>\n",
       "    <tr>\n",
       "      <th>833</th>\n",
       "      <td>KCN-1004</td>\n",
       "      <td>50</td>\n",
       "      <td>48</td>\n",
       "      <td>2023-06-07 21:00:00</td>\n",
       "      <td>고위험군</td>\n",
       "    </tr>\n",
       "    <tr>\n",
       "      <th>834</th>\n",
       "      <td>KCN-1004</td>\n",
       "      <td>57</td>\n",
       "      <td>19</td>\n",
       "      <td>2023-06-07 22:00:00</td>\n",
       "      <td>고위험군</td>\n",
       "    </tr>\n",
       "    <tr>\n",
       "      <th>835</th>\n",
       "      <td>KCN-1004</td>\n",
       "      <td>0</td>\n",
       "      <td>0</td>\n",
       "      <td>2023-06-07 23:00:00</td>\n",
       "      <td>고위험군</td>\n",
       "    </tr>\n",
       "  </tbody>\n",
       "</table>\n",
       "<p>836 rows × 5 columns</p>\n",
       "</div>\n",
       "      <button class=\"colab-df-convert\" onclick=\"convertToInteractive('df-577cfe5d-fb75-445f-9a00-60532959422e')\"\n",
       "              title=\"Convert this dataframe to an interactive table.\"\n",
       "              style=\"display:none;\">\n",
       "        \n",
       "  <svg xmlns=\"http://www.w3.org/2000/svg\" height=\"24px\"viewBox=\"0 0 24 24\"\n",
       "       width=\"24px\">\n",
       "    <path d=\"M0 0h24v24H0V0z\" fill=\"none\"/>\n",
       "    <path d=\"M18.56 5.44l.94 2.06.94-2.06 2.06-.94-2.06-.94-.94-2.06-.94 2.06-2.06.94zm-11 1L8.5 8.5l.94-2.06 2.06-.94-2.06-.94L8.5 2.5l-.94 2.06-2.06.94zm10 10l.94 2.06.94-2.06 2.06-.94-2.06-.94-.94-2.06-.94 2.06-2.06.94z\"/><path d=\"M17.41 7.96l-1.37-1.37c-.4-.4-.92-.59-1.43-.59-.52 0-1.04.2-1.43.59L10.3 9.45l-7.72 7.72c-.78.78-.78 2.05 0 2.83L4 21.41c.39.39.9.59 1.41.59.51 0 1.02-.2 1.41-.59l7.78-7.78 2.81-2.81c.8-.78.8-2.07 0-2.86zM5.41 20L4 18.59l7.72-7.72 1.47 1.35L5.41 20z\"/>\n",
       "  </svg>\n",
       "      </button>\n",
       "      \n",
       "  <style>\n",
       "    .colab-df-container {\n",
       "      display:flex;\n",
       "      flex-wrap:wrap;\n",
       "      gap: 12px;\n",
       "    }\n",
       "\n",
       "    .colab-df-convert {\n",
       "      background-color: #E8F0FE;\n",
       "      border: none;\n",
       "      border-radius: 50%;\n",
       "      cursor: pointer;\n",
       "      display: none;\n",
       "      fill: #1967D2;\n",
       "      height: 32px;\n",
       "      padding: 0 0 0 0;\n",
       "      width: 32px;\n",
       "    }\n",
       "\n",
       "    .colab-df-convert:hover {\n",
       "      background-color: #E2EBFA;\n",
       "      box-shadow: 0px 1px 2px rgba(60, 64, 67, 0.3), 0px 1px 3px 1px rgba(60, 64, 67, 0.15);\n",
       "      fill: #174EA6;\n",
       "    }\n",
       "\n",
       "    [theme=dark] .colab-df-convert {\n",
       "      background-color: #3B4455;\n",
       "      fill: #D2E3FC;\n",
       "    }\n",
       "\n",
       "    [theme=dark] .colab-df-convert:hover {\n",
       "      background-color: #434B5C;\n",
       "      box-shadow: 0px 1px 3px 1px rgba(0, 0, 0, 0.15);\n",
       "      filter: drop-shadow(0px 1px 2px rgba(0, 0, 0, 0.3));\n",
       "      fill: #FFFFFF;\n",
       "    }\n",
       "  </style>\n",
       "\n",
       "      <script>\n",
       "        const buttonEl =\n",
       "          document.querySelector('#df-577cfe5d-fb75-445f-9a00-60532959422e button.colab-df-convert');\n",
       "        buttonEl.style.display =\n",
       "          google.colab.kernel.accessAllowed ? 'block' : 'none';\n",
       "\n",
       "        async function convertToInteractive(key) {\n",
       "          const element = document.querySelector('#df-577cfe5d-fb75-445f-9a00-60532959422e');\n",
       "          const dataTable =\n",
       "            await google.colab.kernel.invokeFunction('convertToInteractive',\n",
       "                                                     [key], {});\n",
       "          if (!dataTable) return;\n",
       "\n",
       "          const docLinkHtml = 'Like what you see? Visit the ' +\n",
       "            '<a target=\"_blank\" href=https://colab.research.google.com/notebooks/data_table.ipynb>data table notebook</a>'\n",
       "            + ' to learn more about interactive tables.';\n",
       "          element.innerHTML = '';\n",
       "          dataTable['output_type'] = 'display_data';\n",
       "          await google.colab.output.renderOutput(dataTable, element);\n",
       "          const docLink = document.createElement('div');\n",
       "          docLink.innerHTML = docLinkHtml;\n",
       "          element.appendChild(docLink);\n",
       "        }\n",
       "      </script>\n",
       "    </div>\n",
       "  </div>\n",
       "  "
      ],
      "text/plain": [
       "          시리얼  전력량1 (Wh)  조도1 (%)                등록일시    구분\n",
       "0    KCN-1007          0      100 2022-10-24 01:03:30   일반군\n",
       "1    KCN-1007          0      100 2022-10-24 02:04:17   일반군\n",
       "2    KCN-1007          0      100 2022-10-24 03:06:35   일반군\n",
       "3    KCN-1007          0      100 2022-10-24 04:07:15   일반군\n",
       "4    KCN-1007          0      100 2022-10-24 05:03:40   일반군\n",
       "..        ...        ...      ...                 ...   ...\n",
       "831  KCN-1004         87       94 2023-06-07 19:00:00  고위험군\n",
       "832  KCN-1004         15       32 2023-06-07 20:00:00  고위험군\n",
       "833  KCN-1004         50       48 2023-06-07 21:00:00  고위험군\n",
       "834  KCN-1004         57       19 2023-06-07 22:00:00  고위험군\n",
       "835  KCN-1004          0        0 2023-06-07 23:00:00  고위험군\n",
       "\n",
       "[836 rows x 5 columns]"
      ]
     },
     "execution_count": 4,
     "metadata": {},
     "output_type": "execute_result"
    }
   ],
   "source": [
    "df"
   ]
  },
  {
   "cell_type": "code",
   "execution_count": 5,
   "metadata": {
    "colab": {
     "base_uri": "https://localhost:8080/"
    },
    "executionInfo": {
     "elapsed": 14,
     "status": "ok",
     "timestamp": 1686812929521,
     "user": {
      "displayName": "이재진",
      "userId": "14857088793389238683"
     },
     "user_tz": -540
    },
    "id": "sxmWQqhszRlP",
    "outputId": "d577d6d4-ed6d-4051-eb5d-8e6cece16f38"
   },
   "outputs": [
    {
     "name": "stdout",
     "output_type": "stream",
     "text": [
      "<class 'pandas.core.frame.DataFrame'>\n",
      "RangeIndex: 836 entries, 0 to 835\n",
      "Data columns (total 5 columns):\n",
      " #   Column     Non-Null Count  Dtype         \n",
      "---  ------     --------------  -----         \n",
      " 0   시리얼        836 non-null    object        \n",
      " 1   전력량1 (Wh)  836 non-null    int64         \n",
      " 2   조도1 (%)    836 non-null    int64         \n",
      " 3   등록일시       836 non-null    datetime64[ns]\n",
      " 4   구분         836 non-null    object        \n",
      "dtypes: datetime64[ns](1), int64(2), object(2)\n",
      "memory usage: 32.8+ KB\n"
     ]
    }
   ],
   "source": [
    "df.info()"
   ]
  },
  {
   "cell_type": "code",
   "execution_count": 6,
   "metadata": {
    "colab": {
     "base_uri": "https://localhost:8080/"
    },
    "executionInfo": {
     "elapsed": 11,
     "status": "ok",
     "timestamp": 1686812929521,
     "user": {
      "displayName": "이재진",
      "userId": "14857088793389238683"
     },
     "user_tz": -540
    },
    "id": "wXSiCqLvzRjQ",
    "outputId": "9118287b-8f6e-4368-8947-49b8d1c66c5d"
   },
   "outputs": [
    {
     "data": {
      "text/plain": [
       "시리얼          0\n",
       "전력량1 (Wh)    0\n",
       "조도1 (%)      0\n",
       "등록일시         0\n",
       "구분           0\n",
       "dtype: int64"
      ]
     },
     "execution_count": 6,
     "metadata": {},
     "output_type": "execute_result"
    }
   ],
   "source": [
    "df.isna().sum()"
   ]
  },
  {
   "cell_type": "code",
   "execution_count": 7,
   "metadata": {
    "colab": {
     "base_uri": "https://localhost:8080/"
    },
    "executionInfo": {
     "elapsed": 916,
     "status": "ok",
     "timestamp": 1686812930429,
     "user": {
      "displayName": "이재진",
      "userId": "14857088793389238683"
     },
     "user_tz": -540
    },
    "id": "emJeHNfNzRhR",
    "outputId": "9429c7c5-24e2-4fec-dd38-b695dc505792"
   },
   "outputs": [
    {
     "data": {
      "text/plain": [
       "0      KCN-1007\n",
       "1      KCN-1007\n",
       "2      KCN-1007\n",
       "3      KCN-1007\n",
       "4      KCN-1007\n",
       "         ...   \n",
       "831    KCN-1004\n",
       "832    KCN-1004\n",
       "833    KCN-1004\n",
       "834    KCN-1004\n",
       "835    KCN-1004\n",
       "Name: 시리얼, Length: 836, dtype: object"
      ]
     },
     "execution_count": 7,
     "metadata": {},
     "output_type": "execute_result"
    }
   ],
   "source": [
    "df['시리얼']"
   ]
  },
  {
   "cell_type": "code",
   "execution_count": 8,
   "metadata": {
    "colab": {
     "base_uri": "https://localhost:8080/"
    },
    "executionInfo": {
     "elapsed": 7,
     "status": "ok",
     "timestamp": 1686812930429,
     "user": {
      "displayName": "이재진",
      "userId": "14857088793389238683"
     },
     "user_tz": -540
    },
    "id": "oi1Ecy2uzRfM",
    "outputId": "a54af38b-8736-4929-8d79-31a4f10c79ca"
   },
   "outputs": [
    {
     "name": "stdout",
     "output_type": "stream",
     "text": [
      "이상 신호가 감지되지 않았습니다 (serial: KCN-1007)\n",
      "이상 신호가 감지되지 않았습니다 (serial: KCN-1116)\n",
      "일반군 이상 신호가 감지되었습니다. (serial: KCN-0730):\n",
      "2023-06-05 00:00:00 to 2023-06-07 01:00:00 - 일반군 이상 신호가 감지되었습니다.\n",
      "2023-06-05 01:00:00 to 2023-06-07 02:00:00 - 일반군 이상 신호가 감지되었습니다.\n",
      "2023-06-05 02:00:00 to 2023-06-07 03:00:00 - 일반군 이상 신호가 감지되었습니다.\n",
      "2023-06-05 03:00:00 to 2023-06-07 04:00:00 - 일반군 이상 신호가 감지되었습니다.\n",
      "2023-06-05 04:00:00 to 2023-06-07 05:00:00 - 일반군 이상 신호가 감지되었습니다.\n",
      "2023-06-05 05:00:00 to 2023-06-07 06:00:00 - 일반군 이상 신호가 감지되었습니다.\n",
      "2023-06-05 06:00:00 to 2023-06-07 07:00:00 - 일반군 이상 신호가 감지되었습니다.\n",
      "2023-06-05 07:00:00 to 2023-06-07 08:00:00 - 일반군 이상 신호가 감지되었습니다.\n",
      "2023-06-05 08:00:00 to 2023-06-07 09:00:00 - 일반군 이상 신호가 감지되었습니다.\n",
      "2023-06-05 09:00:00 to 2023-06-07 10:00:00 - 일반군 이상 신호가 감지되었습니다.\n",
      "2023-06-05 10:00:00 to 2023-06-07 11:00:00 - 일반군 이상 신호가 감지되었습니다.\n",
      "2023-06-05 11:00:00 to 2023-06-07 12:00:00 - 일반군 이상 신호가 감지되었습니다.\n",
      "2023-06-05 12:00:00 to 2023-06-07 13:00:00 - 일반군 이상 신호가 감지되었습니다.\n",
      "2023-06-05 13:00:00 to 2023-06-07 14:00:00 - 일반군 이상 신호가 감지되었습니다.\n",
      "2023-06-05 14:00:00 to 2023-06-07 15:00:00 - 일반군 이상 신호가 감지되었습니다.\n",
      "2023-06-05 15:00:00 to 2023-06-07 16:00:00 - 일반군 이상 신호가 감지되었습니다.\n",
      "2023-06-05 16:00:00 to 2023-06-07 17:00:00 - 일반군 이상 신호가 감지되었습니다.\n",
      "2023-06-05 17:00:00 to 2023-06-07 18:00:00 - 일반군 이상 신호가 감지되었습니다.\n",
      "2023-06-05 18:00:00 to 2023-06-07 19:00:00 - 일반군 이상 신호가 감지되었습니다.\n",
      "2023-06-05 19:00:00 to 2023-06-07 20:00:00 - 일반군 이상 신호가 감지되었습니다.\n",
      "2023-06-05 20:00:00 to 2023-06-07 21:00:00 - 일반군 이상 신호가 감지되었습니다.\n",
      "2023-06-05 21:00:00 to 2023-06-07 22:00:00 - 일반군 이상 신호가 감지되었습니다.\n",
      "2023-06-05 22:00:00 to 2023-06-07 23:00:00 - 일반군 이상 신호가 감지되었습니다.\n",
      "이상 신호가 감지되었습니다.\n",
      "위험군 이상 신호가 감지되었습니다. (serial: KCN-1005):\n",
      "2023-06-04 00:00:00 to 2023-06-04 23:00:00 - 위험군 이상 신호가 감지되었습니다\n",
      "2023-06-04 01:00:00 to 2023-06-05 00:00:00 - 위험군 이상 신호가 감지되었습니다\n",
      "2023-06-04 02:00:00 to 2023-06-05 01:00:00 - 위험군 이상 신호가 감지되었습니다\n",
      "2023-06-04 03:00:00 to 2023-06-05 02:00:00 - 위험군 이상 신호가 감지되었습니다\n",
      "2023-06-04 04:00:00 to 2023-06-05 03:00:00 - 위험군 이상 신호가 감지되었습니다\n",
      "2023-06-04 05:00:00 to 2023-06-05 04:00:00 - 위험군 이상 신호가 감지되었습니다\n",
      "2023-06-04 06:00:00 to 2023-06-05 05:00:00 - 위험군 이상 신호가 감지되었습니다\n",
      "2023-06-04 07:00:00 to 2023-06-05 06:00:00 - 위험군 이상 신호가 감지되었습니다\n",
      "2023-06-04 08:00:00 to 2023-06-05 07:00:00 - 위험군 이상 신호가 감지되었습니다\n",
      "2023-06-04 09:00:00 to 2023-06-05 08:00:00 - 위험군 이상 신호가 감지되었습니다\n",
      "2023-06-04 10:00:00 to 2023-06-05 09:00:00 - 위험군 이상 신호가 감지되었습니다\n",
      "2023-06-04 11:00:00 to 2023-06-05 10:00:00 - 위험군 이상 신호가 감지되었습니다\n",
      "2023-06-04 12:00:00 to 2023-06-05 11:00:00 - 위험군 이상 신호가 감지되었습니다\n",
      "2023-06-04 13:00:00 to 2023-06-05 12:00:00 - 위험군 이상 신호가 감지되었습니다\n",
      "이상 신호가 감지되었습니다.\n",
      "고위험군 이상 신호가 감지되었습니다. (serial: KCN-1004):\n",
      "2023-06-05 07:00:00 to 2023-06-06 06:00:00 - 고위험군 이상 신호가 감지되었습니다\n",
      "2023-06-05 08:00:00 to 2023-06-06 07:00:00 - 고위험군 이상 신호가 감지되었습니다\n",
      "2023-06-05 09:00:00 to 2023-06-06 08:00:00 - 고위험군 이상 신호가 감지되었습니다\n",
      "2023-06-05 10:00:00 to 2023-06-06 09:00:00 - 고위험군 이상 신호가 감지되었습니다\n",
      "2023-06-05 11:00:00 to 2023-06-06 10:00:00 - 고위험군 이상 신호가 감지되었습니다\n",
      "2023-06-05 12:00:00 to 2023-06-06 11:00:00 - 고위험군 이상 신호가 감지되었습니다\n",
      "2023-06-05 13:00:00 to 2023-06-06 12:00:00 - 고위험군 이상 신호가 감지되었습니다\n",
      "2023-06-05 14:00:00 to 2023-06-06 13:00:00 - 고위험군 이상 신호가 감지되었습니다\n",
      "이상 신호가 감지되었습니다.\n"
     ]
    }
   ],
   "source": [
    "import numpy as np\n",
    "\n",
    "def detect_no_power_and_brightness_variation(df, detection_periods):\n",
    "    unique_serials = df['시리얼'].unique()\n",
    "\n",
    "    for serial in unique_serials:\n",
    "        df_serial = df[df['시리얼'] == serial]\n",
    "        danger_signals = []\n",
    "\n",
    "        anomaly_detected = False  # Flag to track if anomaly signal has been detected\n",
    "\n",
    "        for detection_period in detection_periods:\n",
    "            for i in range(len(df_serial) - detection_period + 1):\n",
    "                power_usage = df_serial['전력량1 (Wh)'].iloc[i:i + detection_period]\n",
    "                brightness = df_serial['조도1 (%)'].iloc[i:i + detection_period]\n",
    "                classification = df_serial['구분'].iloc[i:i + detection_period]\n",
    "\n",
    "                # Check if the classification group is 'high-risk'\n",
    "                if '고위험군' in classification.values:\n",
    "                    # Check if both power usage and brightness have no fluctuation (constant values)\n",
    "                    if np.std(power_usage) == 0 and np.std(brightness) == 0:\n",
    "                        start_time = df_serial['등록일시'].iloc[i]\n",
    "                        end_time = df_serial['등록일시'].iloc[i + detection_period - 1]\n",
    "                        danger_signals.append((start_time, end_time, \"고위험군 이상 신호가 감지되었습니다\"))\n",
    "\n",
    "                # Check if the classification group is 'risk'\n",
    "                elif '위험군' in classification.values:\n",
    "                    # Perform checks specific to the risk group\n",
    "                    if np.std(power_usage) == 0 and np.std(brightness) == 0:\n",
    "                        start_time = df_serial['등록일시'].iloc[i]\n",
    "                        end_time = df_serial['등록일시'].iloc[i + detection_period - 1]\n",
    "                        danger_signals.append((start_time, end_time, \"위험군 이상 신호가 감지되었습니다\"))\n",
    "\n",
    "                # Check if the classification group is 'normal group'\n",
    "                elif '일반군' in classification.values:\n",
    "                    # Perform checks specific to the normal group\n",
    "                    if np.std(power_usage) == 0 and np.std(brightness) == 0 and detection_period == 50:\n",
    "                        start_time = df_serial['등록일시'].iloc[i]\n",
    "                        end_time = df_serial['등록일시'].iloc[i + detection_period - 1]\n",
    "                        danger_signals.append((start_time, end_time, \"일반군 이상 신호가 감지되었습니다.\"))\n",
    "\n",
    "            if len(danger_signals) > 0:\n",
    "                if '고위험군' in classification.values:\n",
    "                    print(f\"고위험군 이상 신호가 감지되었습니다. (serial: {serial}):\")\n",
    "                elif '위험군' in classification.values:\n",
    "                    print(f\"위험군 이상 신호가 감지되었습니다. (serial: {serial}):\")\n",
    "                elif '일반군' in classification.values:\n",
    "                    print(f\"일반군 이상 신호가 감지되었습니다. (serial: {serial}):\")\n",
    "\n",
    "                for signal in danger_signals:\n",
    "                    print(f\"{signal[0]} to {signal[1]} - {signal[2]}\")\n",
    "                break\n",
    "\n",
    "        if len(danger_signals) == 0 and not anomaly_detected:\n",
    "            print(f\"이상 신호가 감지되지 않았습니다 (serial: {serial})\")\n",
    "        elif len(danger_signals) > 0 and not anomaly_detected:\n",
    "            print(\"이상 신호가 감지되었습니다.\")\n",
    "\n",
    "# Assuming you have a DataFrame called 'df' containing the relevant data\n",
    "\n",
    "# Define the detection periods\n",
    "detection_periods = [24, 36, 50]\n",
    "\n",
    "# Call the function\n",
    "detect_no_power_and_brightness_variation(df, detection_periods)"
   ]
  },
  {
   "cell_type": "code",
   "execution_count": null,
   "metadata": {
    "id": "vOKs4OB7zMS4"
   },
   "outputs": [],
   "source": [
    "# 데이터셋 제작 코드입니다. 신경안써도 됩니다.\n",
    "import pandas as pd\n",
    "import numpy as np\n",
    "\n",
    "# Define the sleep time period (from 23:00 to 7:00)\n",
    "sleep_start = 23\n",
    "sleep_end = 7\n",
    "\n",
    "# Define the fixed values for 50 hours\n",
    "fixed_power_consumption = 30\n",
    "fixed_illuminance = 80\n",
    "\n",
    "# Number of weeks for the data\n",
    "num_weeks = 1\n",
    "\n",
    "# Number of rows and columns for each week of data\n",
    "num_rows_per_week = 7 * 24  # 7 days * 24 hours\n",
    "num_columns = 2  # Power Consumption, Illuminance\n",
    "\n",
    "# Create a list of timestamps for the hourly records\n",
    "timestamps = pd.date_range(start='2023-06-01', periods=num_rows_per_week * num_weeks, freq='H')\n",
    "\n",
    "# Create empty arrays for power consumption and illuminance\n",
    "power_consumption = np.zeros(num_rows_per_week * num_weeks, dtype=int)\n",
    "illuminance = np.zeros(num_rows_per_week * num_weeks, dtype=int)\n",
    "\n",
    "# Generate the dataset\n",
    "for i, timestamp in enumerate(timestamps):\n",
    "    hour = timestamp.hour\n",
    "\n",
    "    if i % (24 * 7) in range(24 * 3, 24 * 3 + 50):\n",
    "        # Fixed value period\n",
    "        power_consumption[i:i+50] = fixed_power_consumption\n",
    "        illuminance[i:i+50] = fixed_illuminance\n",
    "    elif sleep_start <= hour or hour < sleep_end:\n",
    "        # Sleep time\n",
    "        power_consumption[i] = 0\n",
    "        illuminance[i] = 0\n",
    "    else:\n",
    "        # Awake time\n",
    "        power_consumption[i] = np.random.randint(1, 101)  # Random power consumption between 1 and 100\n",
    "        illuminance[i] = np.random.randint(1, 101)  # Random illuminance between 1 and 100\n",
    "\n",
    "# Create the DataFrame\n",
    "df = pd.DataFrame({'Timestamp': timestamps, 'Power Consumption': power_consumption, 'Illuminance': illuminance})\n",
    "\n",
    "# Save the DataFrame as a CSV file\n",
    "df.to_csv('data.csv', index=False)\n"
   ]
  }
 ],
 "metadata": {
  "colab": {
   "authorship_tag": "ABX9TyOlswdcUGgF3lmUsSSw8YOo",
   "provenance": []
  },
  "kernelspec": {
   "display_name": "Python 3 (ipykernel)",
   "language": "python",
   "name": "python3"
  },
  "language_info": {
   "codemirror_mode": {
    "name": "ipython",
    "version": 3
   },
   "file_extension": ".py",
   "mimetype": "text/x-python",
   "name": "python",
   "nbconvert_exporter": "python",
   "pygments_lexer": "ipython3",
   "version": "3.9.13"
  }
 },
 "nbformat": 4,
 "nbformat_minor": 4
}
